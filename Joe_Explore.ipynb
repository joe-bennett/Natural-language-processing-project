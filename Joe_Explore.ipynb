{
 "cells": [
  {
   "cell_type": "code",
   "execution_count": 1,
   "id": "546d5c63",
   "metadata": {},
   "outputs": [],
   "source": [
    "import prepare\n",
    "import project_acquire"
   ]
  },
  {
   "cell_type": "code",
   "execution_count": 2,
   "id": "935d423f",
   "metadata": {},
   "outputs": [],
   "source": [
    "import matplotlib.pyplot as plt\n",
    "import seaborn as sns\n",
    "import pandas as pd\n",
    "import nltk\n",
    "import unicodedata\n",
    "import re\n",
    "import numpy as np\n"
   ]
  },
  {
   "cell_type": "code",
   "execution_count": 3,
   "id": "518c894b",
   "metadata": {},
   "outputs": [],
   "source": [
    "df=prepare.wrangle_data()"
   ]
  },
  {
   "cell_type": "code",
   "execution_count": 4,
   "id": "a54130f8",
   "metadata": {},
   "outputs": [
    {
     "data": {
      "text/html": [
       "<div>\n",
       "<style scoped>\n",
       "    .dataframe tbody tr th:only-of-type {\n",
       "        vertical-align: middle;\n",
       "    }\n",
       "\n",
       "    .dataframe tbody tr th {\n",
       "        vertical-align: top;\n",
       "    }\n",
       "\n",
       "    .dataframe thead th {\n",
       "        text-align: right;\n",
       "    }\n",
       "</style>\n",
       "<table border=\"1\" class=\"dataframe\">\n",
       "  <thead>\n",
       "    <tr style=\"text-align: right;\">\n",
       "      <th></th>\n",
       "      <th>repo</th>\n",
       "      <th>language</th>\n",
       "      <th>readme_contents</th>\n",
       "      <th>stemmed</th>\n",
       "      <th>lemmatized</th>\n",
       "      <th>clean_tokens</th>\n",
       "    </tr>\n",
       "  </thead>\n",
       "  <tbody>\n",
       "    <tr>\n",
       "      <th>0</th>\n",
       "      <td>rdpeng/ExData_Plotting1</td>\n",
       "      <td>None</td>\n",
       "      <td>## Introduction\\n\\nThis assignment uses data f...</td>\n",
       "      <td>introductionthi assign use data fromth uc irvi...</td>\n",
       "      <td>introductionthis assignment us data fromthe uc...</td>\n",
       "      <td>introductionthis assignment uses data fromthe ...</td>\n",
       "    </tr>\n",
       "    <tr>\n",
       "      <th>1</th>\n",
       "      <td>rdpeng/RepData_PeerAssessment1</td>\n",
       "      <td>None</td>\n",
       "      <td>## Introduction\\n\\nIt is now possible to colle...</td>\n",
       "      <td>introductionit possibl collect larg amount dat...</td>\n",
       "      <td>introductionit possible collect large amount d...</td>\n",
       "      <td>introductionit possible collect large amount d...</td>\n",
       "    </tr>\n",
       "    <tr>\n",
       "      <th>2</th>\n",
       "      <td>DataScienceSpecialization/courses</td>\n",
       "      <td>HTML</td>\n",
       "      <td>\\n### Data Science Specialization\\n\\nThese are...</td>\n",
       "      <td>data scienc specializationthes cours materi jo...</td>\n",
       "      <td>data science specializationthese course materi...</td>\n",
       "      <td>data science specializationthese course materi...</td>\n",
       "    </tr>\n",
       "    <tr>\n",
       "      <th>3</th>\n",
       "      <td>fighting41love/funNLP</td>\n",
       "      <td>Python</td>\n",
       "      <td>&lt;center&gt;\\n    &lt;img style=\"border-radius: 0.312...</td>\n",
       "      <td>nlpdatalogocitations487redsvgdatalogohomee4bab...</td>\n",
       "      <td>nlpdatalogocitations487redsvgdatalogohomee4bab...</td>\n",
       "      <td>nlpdatalogocitations487redsvgdatalogohomee4bab...</td>\n",
       "    </tr>\n",
       "    <tr>\n",
       "      <th>4</th>\n",
       "      <td>magento/magento2</td>\n",
       "      <td>PHP</td>\n",
       "      <td>\\n&lt;p align=\"center\"&gt;\\n&lt;a href=\"https://www.cod...</td>\n",
       "      <td>magento open sourcewelcom magento open sourc p...</td>\n",
       "      <td>magento open sourcewelcome magento open source...</td>\n",
       "      <td>magento open sourcewelcome magento open source...</td>\n",
       "    </tr>\n",
       "    <tr>\n",
       "      <th>...</th>\n",
       "      <td>...</td>\n",
       "      <td>...</td>\n",
       "      <td>...</td>\n",
       "      <td>...</td>\n",
       "      <td>...</td>\n",
       "      <td>...</td>\n",
       "    </tr>\n",
       "    <tr>\n",
       "      <th>485</th>\n",
       "      <td>rprokap/pset-9</td>\n",
       "      <td>JavaScript</td>\n",
       "      <td># pset-9\\n      CREDITS SEQUENCE              ...</td>\n",
       "      <td>pset9credit sequencenewspap headlin montagehea...</td>\n",
       "      <td>pset9credits sequencenewspaper headline montag...</td>\n",
       "      <td>pset9credits sequencenewspaper headline montag...</td>\n",
       "    </tr>\n",
       "    <tr>\n",
       "      <th>486</th>\n",
       "      <td>konzy/mass_clone</td>\n",
       "      <td>Shell</td>\n",
       "      <td># mass_clone\\nThis is a shell script that will...</td>\n",
       "      <td>massclonethi shell script clone multipl reposi...</td>\n",
       "      <td>massclonethis shell script clone multiple repo...</td>\n",
       "      <td>massclonethis shell script clone multiple repo...</td>\n",
       "    </tr>\n",
       "    <tr>\n",
       "      <th>487</th>\n",
       "      <td>biter777/countries</td>\n",
       "      <td>Go</td>\n",
       "      <td># countries\\r\\n\\r\\nCountries - ISO 3166 (ISO31...</td>\n",
       "      <td>countriescountri iso 3166 iso31661 iso3166 dig...</td>\n",
       "      <td>countriescountries iso 3166 iso31661 iso3166 d...</td>\n",
       "      <td>countriescountries iso 3166 iso31661 iso3166 d...</td>\n",
       "    </tr>\n",
       "    <tr>\n",
       "      <th>488</th>\n",
       "      <td>sayantann11/all-classification-templetes-for-ML</td>\n",
       "      <td>Python</td>\n",
       "      <td># all-classification-templetes-for-ML\\nClassif...</td>\n",
       "      <td>allclassificationtempletesformlclassif machin ...</td>\n",
       "      <td>allclassificationtempletesformlclassification ...</td>\n",
       "      <td>allclassificationtempletesformlclassification ...</td>\n",
       "    </tr>\n",
       "    <tr>\n",
       "      <th>489</th>\n",
       "      <td>denman2328/Help</td>\n",
       "      <td>None</td>\n",
       "      <td>------------------\\nSystem Information\\n------...</td>\n",
       "      <td>system informationtim report 8102013 083620 ma...</td>\n",
       "      <td>system informationtime report 8102013 083620 m...</td>\n",
       "      <td>system informationtime report 8102013 083620 m...</td>\n",
       "    </tr>\n",
       "  </tbody>\n",
       "</table>\n",
       "<p>490 rows × 6 columns</p>\n",
       "</div>"
      ],
      "text/plain": [
       "                                                repo    language  \\\n",
       "0                            rdpeng/ExData_Plotting1        None   \n",
       "1                     rdpeng/RepData_PeerAssessment1        None   \n",
       "2                  DataScienceSpecialization/courses        HTML   \n",
       "3                              fighting41love/funNLP      Python   \n",
       "4                                   magento/magento2         PHP   \n",
       "..                                               ...         ...   \n",
       "485                                   rprokap/pset-9  JavaScript   \n",
       "486                                 konzy/mass_clone       Shell   \n",
       "487                               biter777/countries          Go   \n",
       "488  sayantann11/all-classification-templetes-for-ML      Python   \n",
       "489                                  denman2328/Help        None   \n",
       "\n",
       "                                       readme_contents  \\\n",
       "0    ## Introduction\\n\\nThis assignment uses data f...   \n",
       "1    ## Introduction\\n\\nIt is now possible to colle...   \n",
       "2    \\n### Data Science Specialization\\n\\nThese are...   \n",
       "3    <center>\\n    <img style=\"border-radius: 0.312...   \n",
       "4    \\n<p align=\"center\">\\n<a href=\"https://www.cod...   \n",
       "..                                                 ...   \n",
       "485  # pset-9\\n      CREDITS SEQUENCE              ...   \n",
       "486  # mass_clone\\nThis is a shell script that will...   \n",
       "487  # countries\\r\\n\\r\\nCountries - ISO 3166 (ISO31...   \n",
       "488  # all-classification-templetes-for-ML\\nClassif...   \n",
       "489  ------------------\\nSystem Information\\n------...   \n",
       "\n",
       "                                               stemmed  \\\n",
       "0    introductionthi assign use data fromth uc irvi...   \n",
       "1    introductionit possibl collect larg amount dat...   \n",
       "2    data scienc specializationthes cours materi jo...   \n",
       "3    nlpdatalogocitations487redsvgdatalogohomee4bab...   \n",
       "4    magento open sourcewelcom magento open sourc p...   \n",
       "..                                                 ...   \n",
       "485  pset9credit sequencenewspap headlin montagehea...   \n",
       "486  massclonethi shell script clone multipl reposi...   \n",
       "487  countriescountri iso 3166 iso31661 iso3166 dig...   \n",
       "488  allclassificationtempletesformlclassif machin ...   \n",
       "489  system informationtim report 8102013 083620 ma...   \n",
       "\n",
       "                                            lemmatized  \\\n",
       "0    introductionthis assignment us data fromthe uc...   \n",
       "1    introductionit possible collect large amount d...   \n",
       "2    data science specializationthese course materi...   \n",
       "3    nlpdatalogocitations487redsvgdatalogohomee4bab...   \n",
       "4    magento open sourcewelcome magento open source...   \n",
       "..                                                 ...   \n",
       "485  pset9credits sequencenewspaper headline montag...   \n",
       "486  massclonethis shell script clone multiple repo...   \n",
       "487  countriescountries iso 3166 iso31661 iso3166 d...   \n",
       "488  allclassificationtempletesformlclassification ...   \n",
       "489  system informationtime report 8102013 083620 m...   \n",
       "\n",
       "                                          clean_tokens  \n",
       "0    introductionthis assignment uses data fromthe ...  \n",
       "1    introductionit possible collect large amount d...  \n",
       "2    data science specializationthese course materi...  \n",
       "3    nlpdatalogocitations487redsvgdatalogohomee4bab...  \n",
       "4    magento open sourcewelcome magento open source...  \n",
       "..                                                 ...  \n",
       "485  pset9credits sequencenewspaper headline montag...  \n",
       "486  massclonethis shell script clone multiple repo...  \n",
       "487  countriescountries iso 3166 iso31661 iso3166 d...  \n",
       "488  allclassificationtempletesformlclassification ...  \n",
       "489  system informationtime report 8102013 083620 m...  \n",
       "\n",
       "[490 rows x 6 columns]"
      ]
     },
     "execution_count": 4,
     "metadata": {},
     "output_type": "execute_result"
    }
   ],
   "source": [
    "df"
   ]
  },
  {
   "cell_type": "markdown",
   "id": "71364847",
   "metadata": {},
   "source": [
    "# Questions to answer:\n",
    "\n",
    "## What are the most common words in READMEs?\n",
    "\n",
    "\n",
    "## Does the length of the README vary by programming language?"
   ]
  },
  {
   "cell_type": "code",
   "execution_count": 5,
   "id": "4ca17f7d",
   "metadata": {},
   "outputs": [
    {
     "data": {
      "text/plain": [
       "Index(['repo', 'language', 'readme_contents', 'stemmed', 'lemmatized',\n",
       "       'clean_tokens'],\n",
       "      dtype='object')"
      ]
     },
     "execution_count": 5,
     "metadata": {},
     "output_type": "execute_result"
    }
   ],
   "source": [
    "df.columns"
   ]
  },
  {
   "cell_type": "code",
   "execution_count": 16,
   "id": "c409e1ed",
   "metadata": {},
   "outputs": [],
   "source": [
    "from sklearn.model_selection import train_test_split\n",
    "\n",
    "\n",
    "\n",
    "def train_val_test(X_values,y_values):\n",
    "    \"\"\"Takes in the X values and the target y variable and splits data 60/20/20\n",
    "    train, validate, and test respectively\"\"\"\n",
    "    X = X_values\n",
    "    y = y_values\n",
    "    X_train, X_test, y_train, y_test = \\\n",
    "    train_test_split(X, y, \n",
    "                    test_size=0.2, \n",
    "                    random_state=123)\n",
    "\n",
    "    X_train, X_validate, y_train, y_validate = \\\n",
    "    train_test_split(X_train, y_train, \n",
    "                    test_size=0.25, \n",
    "                    random_state=123)  \n",
    "    return X_train,X_validate,X_test,y_train,y_validate,y_test"
   ]
  },
  {
   "cell_type": "code",
   "execution_count": 8,
   "id": "a1b0e5e4",
   "metadata": {},
   "outputs": [],
   "source": [
    "df['targ_vars']= np.where(\n",
    "    df.language.isin(['Python','Java','JavaScript','Assembly','HTML','C++','C#','C']),\n",
    "    df.language,'other')"
   ]
  },
  {
   "cell_type": "code",
   "execution_count": 9,
   "id": "a781fcb8",
   "metadata": {},
   "outputs": [
    {
     "data": {
      "text/html": [
       "<div>\n",
       "<style scoped>\n",
       "    .dataframe tbody tr th:only-of-type {\n",
       "        vertical-align: middle;\n",
       "    }\n",
       "\n",
       "    .dataframe tbody tr th {\n",
       "        vertical-align: top;\n",
       "    }\n",
       "\n",
       "    .dataframe thead th {\n",
       "        text-align: right;\n",
       "    }\n",
       "</style>\n",
       "<table border=\"1\" class=\"dataframe\">\n",
       "  <thead>\n",
       "    <tr style=\"text-align: right;\">\n",
       "      <th></th>\n",
       "      <th>n</th>\n",
       "      <th>percent</th>\n",
       "    </tr>\n",
       "  </thead>\n",
       "  <tbody>\n",
       "    <tr>\n",
       "      <th>other</th>\n",
       "      <td>190</td>\n",
       "      <td>0.387755</td>\n",
       "    </tr>\n",
       "    <tr>\n",
       "      <th>Python</th>\n",
       "      <td>71</td>\n",
       "      <td>0.144898</td>\n",
       "    </tr>\n",
       "    <tr>\n",
       "      <th>Java</th>\n",
       "      <td>66</td>\n",
       "      <td>0.134694</td>\n",
       "    </tr>\n",
       "    <tr>\n",
       "      <th>JavaScript</th>\n",
       "      <td>55</td>\n",
       "      <td>0.112245</td>\n",
       "    </tr>\n",
       "    <tr>\n",
       "      <th>Assembly</th>\n",
       "      <td>39</td>\n",
       "      <td>0.079592</td>\n",
       "    </tr>\n",
       "    <tr>\n",
       "      <th>HTML</th>\n",
       "      <td>22</td>\n",
       "      <td>0.044898</td>\n",
       "    </tr>\n",
       "    <tr>\n",
       "      <th>C++</th>\n",
       "      <td>21</td>\n",
       "      <td>0.042857</td>\n",
       "    </tr>\n",
       "    <tr>\n",
       "      <th>C#</th>\n",
       "      <td>14</td>\n",
       "      <td>0.028571</td>\n",
       "    </tr>\n",
       "    <tr>\n",
       "      <th>C</th>\n",
       "      <td>12</td>\n",
       "      <td>0.024490</td>\n",
       "    </tr>\n",
       "  </tbody>\n",
       "</table>\n",
       "</div>"
      ],
      "text/plain": [
       "              n   percent\n",
       "other       190  0.387755\n",
       "Python       71  0.144898\n",
       "Java         66  0.134694\n",
       "JavaScript   55  0.112245\n",
       "Assembly     39  0.079592\n",
       "HTML         22  0.044898\n",
       "C++          21  0.042857\n",
       "C#           14  0.028571\n",
       "C            12  0.024490"
      ]
     },
     "execution_count": 9,
     "metadata": {},
     "output_type": "execute_result"
    }
   ],
   "source": [
    "# breaking down the DataFrame by language, its n number of occurances, and percentage of the data\n",
    "\n",
    "language = pd.concat([df.targ_vars.value_counts(),\n",
    "                    df.targ_vars.value_counts(normalize=True)], axis=1)\n",
    "language.columns = ['n', 'percent']\n",
    "language\n"
   ]
  },
  {
   "cell_type": "code",
   "execution_count": 19,
   "id": "a29e69b7",
   "metadata": {},
   "outputs": [],
   "source": [
    "# removed all rows that the target variable language was \"other\"\n",
    "df=(df[df['targ_vars'] != 'other'])"
   ]
  },
  {
   "cell_type": "code",
   "execution_count": 22,
   "id": "ab9bb4df",
   "metadata": {},
   "outputs": [
    {
     "data": {
      "text/html": [
       "<div>\n",
       "<style scoped>\n",
       "    .dataframe tbody tr th:only-of-type {\n",
       "        vertical-align: middle;\n",
       "    }\n",
       "\n",
       "    .dataframe tbody tr th {\n",
       "        vertical-align: top;\n",
       "    }\n",
       "\n",
       "    .dataframe thead th {\n",
       "        text-align: right;\n",
       "    }\n",
       "</style>\n",
       "<table border=\"1\" class=\"dataframe\">\n",
       "  <thead>\n",
       "    <tr style=\"text-align: right;\">\n",
       "      <th></th>\n",
       "      <th>repo</th>\n",
       "      <th>language</th>\n",
       "      <th>readme_contents</th>\n",
       "      <th>stemmed</th>\n",
       "      <th>lemmatized</th>\n",
       "      <th>clean_tokens</th>\n",
       "      <th>targ_vars</th>\n",
       "    </tr>\n",
       "  </thead>\n",
       "  <tbody>\n",
       "    <tr>\n",
       "      <th>2</th>\n",
       "      <td>DataScienceSpecialization/courses</td>\n",
       "      <td>HTML</td>\n",
       "      <td>\\n### Data Science Specialization\\n\\nThese are...</td>\n",
       "      <td>data scienc specializationthes cours materi jo...</td>\n",
       "      <td>data science specializationthese course materi...</td>\n",
       "      <td>data science specializationthese course materi...</td>\n",
       "      <td>HTML</td>\n",
       "    </tr>\n",
       "    <tr>\n",
       "      <th>3</th>\n",
       "      <td>fighting41love/funNLP</td>\n",
       "      <td>Python</td>\n",
       "      <td>&lt;center&gt;\\n    &lt;img style=\"border-radius: 0.312...</td>\n",
       "      <td>nlpdatalogocitations487redsvgdatalogohomee4bab...</td>\n",
       "      <td>nlpdatalogocitations487redsvgdatalogohomee4bab...</td>\n",
       "      <td>nlpdatalogocitations487redsvgdatalogohomee4bab...</td>\n",
       "      <td>Python</td>\n",
       "    </tr>\n",
       "    <tr>\n",
       "      <th>5</th>\n",
       "      <td>arduino/Arduino</td>\n",
       "      <td>Java</td>\n",
       "      <td>&lt;p align=\"center\"&gt;\\n\\t&lt;img src=\"http://content...</td>\n",
       "      <td>&amp;#9; arduino opensourc physic comput platform ...</td>\n",
       "      <td>&amp;#9; arduino opensource physical computing pla...</td>\n",
       "      <td>&amp;#9; arduino opensource physical computing pla...</td>\n",
       "      <td>Java</td>\n",
       "    </tr>\n",
       "    <tr>\n",
       "      <th>6</th>\n",
       "      <td>elunez/eladmin</td>\n",
       "      <td>Java</td>\n",
       "      <td>&lt;h1 style=\"text-align: center\"&gt;ELADMIN 后台管理系统&lt;...</td>\n",
       "      <td>eladmin aurstargithub starsgithub fork spring ...</td>\n",
       "      <td>eladmin aurstargithub starsgithub fork spring ...</td>\n",
       "      <td>eladmin aurstargithub starsgithub forks spring...</td>\n",
       "      <td>Java</td>\n",
       "    </tr>\n",
       "    <tr>\n",
       "      <th>10</th>\n",
       "      <td>fighting41love/funNLP</td>\n",
       "      <td>Python</td>\n",
       "      <td>&lt;center&gt;\\n    &lt;img style=\"border-radius: 0.312...</td>\n",
       "      <td>nlpdatalogocitations487redsvgdatalogohomee4bab...</td>\n",
       "      <td>nlpdatalogocitations487redsvgdatalogohomee4bab...</td>\n",
       "      <td>nlpdatalogocitations487redsvgdatalogohomee4bab...</td>\n",
       "      <td>Python</td>\n",
       "    </tr>\n",
       "  </tbody>\n",
       "</table>\n",
       "</div>"
      ],
      "text/plain": [
       "                                 repo language  \\\n",
       "2   DataScienceSpecialization/courses     HTML   \n",
       "3               fighting41love/funNLP   Python   \n",
       "5                     arduino/Arduino     Java   \n",
       "6                      elunez/eladmin     Java   \n",
       "10              fighting41love/funNLP   Python   \n",
       "\n",
       "                                      readme_contents  \\\n",
       "2   \\n### Data Science Specialization\\n\\nThese are...   \n",
       "3   <center>\\n    <img style=\"border-radius: 0.312...   \n",
       "5   <p align=\"center\">\\n\\t<img src=\"http://content...   \n",
       "6   <h1 style=\"text-align: center\">ELADMIN 后台管理系统<...   \n",
       "10  <center>\\n    <img style=\"border-radius: 0.312...   \n",
       "\n",
       "                                              stemmed  \\\n",
       "2   data scienc specializationthes cours materi jo...   \n",
       "3   nlpdatalogocitations487redsvgdatalogohomee4bab...   \n",
       "5   &#9; arduino opensourc physic comput platform ...   \n",
       "6   eladmin aurstargithub starsgithub fork spring ...   \n",
       "10  nlpdatalogocitations487redsvgdatalogohomee4bab...   \n",
       "\n",
       "                                           lemmatized  \\\n",
       "2   data science specializationthese course materi...   \n",
       "3   nlpdatalogocitations487redsvgdatalogohomee4bab...   \n",
       "5   &#9; arduino opensource physical computing pla...   \n",
       "6   eladmin aurstargithub starsgithub fork spring ...   \n",
       "10  nlpdatalogocitations487redsvgdatalogohomee4bab...   \n",
       "\n",
       "                                         clean_tokens targ_vars  \n",
       "2   data science specializationthese course materi...      HTML  \n",
       "3   nlpdatalogocitations487redsvgdatalogohomee4bab...    Python  \n",
       "5   &#9; arduino opensource physical computing pla...      Java  \n",
       "6   eladmin aurstargithub starsgithub forks spring...      Java  \n",
       "10  nlpdatalogocitations487redsvgdatalogohomee4bab...    Python  "
      ]
     },
     "execution_count": 22,
     "metadata": {},
     "output_type": "execute_result"
    }
   ],
   "source": [
    "df.head()"
   ]
  },
  {
   "cell_type": "code",
   "execution_count": 17,
   "id": "86fc2142",
   "metadata": {},
   "outputs": [],
   "source": [
    "#split data in train,validate , and test\n",
    "X_train,X_validate,X_test,y_train,y_validate,y_test=train_val_test(df.clean_tokens,df.targ_vars)"
   ]
  },
  {
   "cell_type": "code",
   "execution_count": 18,
   "id": "d0dc7296",
   "metadata": {},
   "outputs": [
    {
     "data": {
      "text/plain": [
       "((180,), (60,), (60,))"
      ]
     },
     "execution_count": 18,
     "metadata": {},
     "output_type": "execute_result"
    }
   ],
   "source": [
    "X_train.shape, X_validate.shape, X_test.shape"
   ]
  },
  {
   "cell_type": "code",
   "execution_count": 27,
   "id": "fe62c3e6",
   "metadata": {},
   "outputs": [
    {
     "data": {
      "text/html": [
       "<div>\n",
       "<style scoped>\n",
       "    .dataframe tbody tr th:only-of-type {\n",
       "        vertical-align: middle;\n",
       "    }\n",
       "\n",
       "    .dataframe tbody tr th {\n",
       "        vertical-align: top;\n",
       "    }\n",
       "\n",
       "    .dataframe thead th {\n",
       "        text-align: right;\n",
       "    }\n",
       "</style>\n",
       "<table border=\"1\" class=\"dataframe\">\n",
       "  <thead>\n",
       "    <tr style=\"text-align: right;\">\n",
       "      <th></th>\n",
       "      <th>clean_tokens</th>\n",
       "      <th>targ_vars</th>\n",
       "    </tr>\n",
       "  </thead>\n",
       "  <tbody>\n",
       "    <tr>\n",
       "      <th>114</th>\n",
       "      <td></td>\n",
       "      <td>C++</td>\n",
       "    </tr>\n",
       "    <tr>\n",
       "      <th>30</th>\n",
       "      <td>nlpdatalogocitations487redsvgdatalogohomee4bab...</td>\n",
       "      <td>Python</td>\n",
       "    </tr>\n",
       "    <tr>\n",
       "      <th>41</th>\n",
       "      <td>pythonvesion itchatvesion codebeat badge codac...</td>\n",
       "      <td>Python</td>\n",
       "    </tr>\n",
       "    <tr>\n",
       "      <th>316</th>\n",
       "      <td></td>\n",
       "      <td>Python</td>\n",
       "    </tr>\n",
       "    <tr>\n",
       "      <th>217</th>\n",
       "      <td>cpptemplates2ndc templates 111 181920212223242...</td>\n",
       "      <td>C++</td>\n",
       "    </tr>\n",
       "    <tr>\n",
       "      <th>...</th>\n",
       "      <td>...</td>\n",
       "      <td>...</td>\n",
       "    </tr>\n",
       "    <tr>\n",
       "      <th>17</th>\n",
       "      <td>pythonvesion itchatvesion codebeat badge codac...</td>\n",
       "      <td>Python</td>\n",
       "    </tr>\n",
       "    <tr>\n",
       "      <th>354</th>\n",
       "      <td>hbworkspace21001name actionbarsearchviewdescri...</td>\n",
       "      <td>Java</td>\n",
       "    </tr>\n",
       "    <tr>\n",
       "      <th>143</th>\n",
       "      <td>linux kernel module cheatcirosantillimediabase...</td>\n",
       "      <td>Python</td>\n",
       "    </tr>\n",
       "    <tr>\n",
       "      <th>386</th>\n",
       "      <td>hbworkspace11001 name accelormetersensordescri...</td>\n",
       "      <td>Java</td>\n",
       "    </tr>\n",
       "    <tr>\n",
       "      <th>256</th>\n",
       "      <td>blcs csdn apkimage textblcs 1apputils 2bitmapu...</td>\n",
       "      <td>Java</td>\n",
       "    </tr>\n",
       "  </tbody>\n",
       "</table>\n",
       "<p>180 rows × 2 columns</p>\n",
       "</div>"
      ],
      "text/plain": [
       "                                          clean_tokens targ_vars\n",
       "114                                                          C++\n",
       "30   nlpdatalogocitations487redsvgdatalogohomee4bab...    Python\n",
       "41   pythonvesion itchatvesion codebeat badge codac...    Python\n",
       "316                                                       Python\n",
       "217  cpptemplates2ndc templates 111 181920212223242...       C++\n",
       "..                                                 ...       ...\n",
       "17   pythonvesion itchatvesion codebeat badge codac...    Python\n",
       "354  hbworkspace21001name actionbarsearchviewdescri...      Java\n",
       "143  linux kernel module cheatcirosantillimediabase...    Python\n",
       "386  hbworkspace11001 name accelormetersensordescri...      Java\n",
       "256  blcs csdn apkimage textblcs 1apputils 2bitmapu...      Java\n",
       "\n",
       "[180 rows x 2 columns]"
      ]
     },
     "execution_count": 27,
     "metadata": {},
     "output_type": "execute_result"
    }
   ],
   "source": [
    "train=pd.concat([X_train,y_train],axis=1)\n",
    "train"
   ]
  },
  {
   "cell_type": "code",
   "execution_count": 28,
   "id": "19b0f5d3",
   "metadata": {},
   "outputs": [],
   "source": [
    "# separating the README corpus in X_train by targ_vars classification. \n"
   ]
  },
  {
   "cell_type": "code",
   "execution_count": 29,
   "id": "f56e8e51",
   "metadata": {},
   "outputs": [
    {
     "data": {
      "text/plain": [
       "'              49727\n",
       "0              26355\n",
       "gem5           18812\n",
       "kernel         14079\n",
       "1              12528\n",
       "arch           11861\n",
       "see            11494\n",
       "also           11261\n",
       "aarch64        10672\n",
       "run             9377\n",
       "arm             9299\n",
       "qemu            9241\n",
       "use             8921\n",
       "movz            8787\n",
       "one             8263\n",
       "instruction     7960\n",
       "userland        7611\n",
       "emulator        7473\n",
       "build           7443\n",
       "memory          7324\n",
       "dtype: int64"
      ]
     },
     "execution_count": 29,
     "metadata": {},
     "output_type": "execute_result"
    }
   ],
   "source": [
    "# taking each of the word lists that are separated by language (except for all_freq variable which looks\n",
    "# at all the README files combined as a whole) and finding the most frequently used words\n",
    "\n",
    "all_freq = pd.Series(all_words.split()).value_counts()\n",
    "python_freq = pd.Series(python_words.split()).value_counts()\n",
    "java_freq = pd.Series(java_words.split()).value_counts()\n",
    "\n",
    "all_freq.head(20)\n"
   ]
  },
  {
   "cell_type": "markdown",
   "id": "75e5fb32",
   "metadata": {},
   "source": [
    "### the top words for all README files are listed above"
   ]
  },
  {
   "cell_type": "markdown",
   "id": "aaf6ac06",
   "metadata": {},
   "source": [
    "# second question\n",
    "\n",
    "## Does the length of the README vary by programming language?"
   ]
  },
  {
   "cell_type": "code",
   "execution_count": 30,
   "id": "0491e0d1",
   "metadata": {},
   "outputs": [],
   "source": [
    "\n",
    "# adding a new coloumn to the dataframe \"readme_length\" that displays the word count of the README file content or the \n",
    "# corresponding row\n",
    "\n",
    "train['readme_length']=train.clean_tokens.str.split().str.len()"
   ]
  },
  {
   "cell_type": "code",
   "execution_count": 31,
   "id": "f7937e2e",
   "metadata": {},
   "outputs": [
    {
     "data": {
      "text/plain": [
       "114        0\n",
       "30      1072\n",
       "41       267\n",
       "316        0\n",
       "217        5\n",
       "       ...  \n",
       "17       267\n",
       "354      550\n",
       "143    69646\n",
       "386      503\n",
       "256      172\n",
       "Name: readme_length, Length: 180, dtype: int64"
      ]
     },
     "execution_count": 31,
     "metadata": {},
     "output_type": "execute_result"
    }
   ],
   "source": [
    "# making sure the output looks correct for the new column\n",
    "train.readme_length"
   ]
  },
  {
   "cell_type": "code",
   "execution_count": 33,
   "id": "7f15fca1",
   "metadata": {},
   "outputs": [
    {
     "data": {
      "text/plain": [
       "targ_vars\n",
       "Assembly       4153.590909\n",
       "C               265.142857\n",
       "C#              645.200000\n",
       "C++              65.454545\n",
       "HTML            103.545455\n",
       "Java            424.674419\n",
       "JavaScript     7042.441176\n",
       "Python        43209.425532\n",
       "Name: readme_length, dtype: float64"
      ]
     },
     "execution_count": 33,
     "metadata": {},
     "output_type": "execute_result"
    }
   ],
   "source": [
    "# breaking down the dataframe by language again and this time computing the average README content word count for each\n",
    "\n",
    "train.groupby('targ_vars')['readme_length'].mean()"
   ]
  },
  {
   "cell_type": "markdown",
   "id": "18311075",
   "metadata": {},
   "source": [
    "# looking at the above output there are definitely some outliers when it comes to README  word counts. Python has a staggering 40,471 average, javascript is just over 8,000, assembly is 4,266.  The rest really coalesce and have similar aggregation amounts in the hundreds"
   ]
  },
  {
   "cell_type": "code",
   "execution_count": null,
   "id": "3a41b5f4",
   "metadata": {},
   "outputs": [],
   "source": []
  }
 ],
 "metadata": {
  "kernelspec": {
   "display_name": "Python 3 (ipykernel)",
   "language": "python",
   "name": "python3"
  },
  "language_info": {
   "codemirror_mode": {
    "name": "ipython",
    "version": 3
   },
   "file_extension": ".py",
   "mimetype": "text/x-python",
   "name": "python",
   "nbconvert_exporter": "python",
   "pygments_lexer": "ipython3",
   "version": "3.9.12"
  },
  "vscode": {
   "interpreter": {
    "hash": "38cca0c38332a56087b24af0bc80247f4fced29cb4f7f437d91dc159adec9c4e"
   }
  }
 },
 "nbformat": 4,
 "nbformat_minor": 5
}
