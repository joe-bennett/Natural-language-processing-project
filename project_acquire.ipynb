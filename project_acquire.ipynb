{
 "cells": [
  {
   "cell_type": "code",
   "execution_count": 1,
   "id": "9521cd56",
   "metadata": {},
   "outputs": [],
   "source": [
    "import requests\n",
    "from bs4 import BeautifulSoup\n",
    "from env import github_token, github_username\n",
    "import os\n",
    "import json\n",
    "import pandas as pd\n",
    "import time\n",
    "import csv\n",
    "from typing import Dict, List, Optional, Union, cast"
   ]
  },
  {
   "cell_type": "code",
   "execution_count": 16,
   "id": "425da738",
   "metadata": {},
   "outputs": [
    {
     "name": "stdout",
     "output_type": "stream",
     "text": [
      "Getting page <Response [200]> of 100Getting page <Response [200]> of 100Getting page <Response [200]> of 100Getting page <Response [200]> of 100Getting page <Response [200]> of 100Getting page <Response [200]> of 100Getting page <Response [200]> of 100Getting page <Response [200]> of 100Getting page <Response [200]> of 100Getting page <Response [200]> of 100Getting page <Response [200]> of 100Getting page <Response [200]> of 100Getting page <Response [200]> of 100Getting page <Response [200]> of 100Getting page <Response [200]> of 100Getting page <Response [200]> of 100Getting page <Response [200]> of 100Getting page <Response [200]> of 100Getting page <Response [200]> of 100Getting page <Response [200]> of 100Getting page <Response [200]> of 100Getting page <Response [200]> of 100Getting page <Response [200]> of 100Getting page <Response [200]> of 100Getting page <Response [200]> of 100Getting page <Response [200]> of 100Getting page <Response [200]> of 100Getting page <Response [200]> of 100Getting page <Response [200]> of 100Getting page <Response [200]> of 100Getting page <Response [200]> of 100Getting page <Response [200]> of 100Getting page <Response [200]> of 100Getting page <Response [200]> of 100Getting page <Response [200]> of 100Getting page <Response [200]> of 100Getting page <Response [200]> of 100Getting page <Response [200]> of 100Getting page <Response [200]> of 100Getting page <Response [200]> of 100Getting page <Response [200]> of 100Getting page <Response [200]> of 100Getting page <Response [200]> of 100Getting page <Response [200]> of 100Getting page <Response [200]> of 100Getting page <Response [200]> of 100Getting page <Response [200]> of 100Getting page <Response [200]> of 100Getting page <Response [200]> of 100Getting page <Response [200]> of 100Getting page <Response [200]> of 100Getting page <Response [200]> of 100Getting page <Response [200]> of 100Getting page <Response [200]> of 100Getting page <Response [200]> of 100Getting page <Response [200]> of 100Getting page <Response [200]> of 100Getting page <Response [200]> of 100Getting page <Response [200]> of 100Getting page <Response [200]> of 100Getting page <Response [200]> of 100Getting page <Response [200]> of 100Getting page <Response [200]> of 100Getting page <Response [200]> of 100Getting page <Response [200]> of 100Getting page <Response [200]> of 100Getting page <Response [200]> of 100Getting page <Response [200]> of 100Getting page <Response [200]> of 100Getting page <Response [200]> of 100Getting page <Response [200]> of 100Getting page <Response [200]> of 100Getting page <Response [200]> of 100Getting page <Response [200]> of 100Getting page <Response [200]> of 100Getting page <Response [200]> of 100Getting page <Response [200]> of 100Getting page <Response [200]> of 100Getting page <Response [200]> of 100Getting page <Response [200]> of 100Getting page <Response [200]> of 100Getting page <Response [200]> of 100Getting page <Response [200]> of 100Getting page <Response [200]> of 100Getting page <Response [200]> of 100Getting page <Response [200]> of 100Getting page <Response [200]> of 100Getting page <Response [200]> of 100Getting page <Response [200]> of 100Getting page <Response [200]> of 100Getting page <Response [200]> of 100Getting page <Response [200]> of 100Getting page <Response [200]> of 100Getting page <Response [200]> of 100Getting page <Response [200]> of 100Getting page <Response [200]> of 100Getting page <Response [200]> of 100Getting page <Response [200]> of 100Getting page <Response [200]> of 100Getting page <Response [200]> of 100"
     ]
    }
   ],
   "source": [
    "'''extra a repo list \n",
    "if the repo list exist in local file, we open that file\n",
    "if the repo list csv is not existed, we extract it use the url and put it into csv'''\n",
    "if not os.path.isfile(\"repo.csv\"):\n",
    "\n",
    "    repos = []\n",
    "    for i in range(1, 101):\n",
    "        url = f'https://github.com/search?o=desc&p={i}&q=stars%3A%3E0&s=stars&type=Repositories'\n",
    "        response = requests.get(url)\n",
    "        soup = BeautifulSoup(response.content, 'html.parser')\n",
    "\n",
    "        for element in soup.find_all('a', class_='v-align-middle'):\n",
    "            repos.append(element.text)\n",
    "\n",
    "        time.sleep(10)\n",
    "\n",
    "    with open('repo.csv', 'w') as createfile:\n",
    "        wr = csv.writer(createfile, quoting=csv.QUOTE_ALL)\n",
    "        wr.writerow(repos)"
   ]
  },
  {
   "cell_type": "code",
   "execution_count": 17,
   "id": "dfa8e39f",
   "metadata": {},
   "outputs": [],
   "source": [
    "'''with the local csv file that has the repo,\n",
    "read the file and extra a list of name and equal it to REPOS\n",
    "this is an environment set up for the prepare and aquire'''\n",
    "results = []\n",
    "with open('repo.csv', newline='') as inputfile:\n",
    "    results = list(csv.reader(inputfile))\n",
    "                \n",
    "REPOS = [item for sublist in results for item in sublist]"
   ]
  },
  {
   "cell_type": "code",
   "execution_count": 8,
   "id": "7cece370",
   "metadata": {},
   "outputs": [],
   "source": [
    "\"\"\"\n",
    "A module for obtaining repo readme and language data from the github API.\n",
    "Before using this module, read through it, and follow the instructions marked\n",
    "TODO.\n",
    "After doing so, run it like this:\n",
    "    python acquire.py\n",
    "To create the `data.json` file that contains the data.\n",
    "\"\"\"\n",
    "\n",
    "# TODO: Make a github personal access token.\n",
    "#     1. Go here and generate a personal access token: https://github.com/settings/tokens\n",
    "#        You do _not_ need select any scopes, i.e. leave all the checkboxes unchecked\n",
    "#     2. Save it in your env.py file under the variable `github_token`\n",
    "# TODO: Add your github username to your env.py file under the variable `github_username`\n",
    "# TODO: Add more repositories to the `REPOS` list below.\n",
    "\n",
    "headers = {\"Authorization\": f\"token {github_token}\", \"User-Agent\": github_username}\n",
    "\n",
    "if headers[\"Authorization\"] == \"token \" or headers[\"User-Agent\"] == \"\":\n",
    "    raise Exception(\n",
    "        \"You need to follow the instructions marked TODO in this script before trying to use it\"\n",
    "    )"
   ]
  },
  {
   "cell_type": "code",
   "execution_count": 9,
   "id": "30edf338",
   "metadata": {},
   "outputs": [],
   "source": [
    "'''use the url we have to create a function that will extra the response_date from json file'''\n",
    "def github_api_request(url: str) -> Union[List, Dict]:\n",
    "    response = requests.get(url, headers=headers)\n",
    "    response_data = response.json()\n",
    "    if response.status_code != 200:\n",
    "        raise Exception(\n",
    "            f\"Error response from github api! status code: {response.status_code}, \"\n",
    "            f\"response: {json.dumps(response_data)}\"\n",
    "        )\n",
    "    return response_data"
   ]
  },
  {
   "cell_type": "code",
   "execution_count": 10,
   "id": "e9a0a02d",
   "metadata": {},
   "outputs": [],
   "source": [
    "'''use the api to extra repo that will give as what repo language it is for exploration use'''\n",
    "def get_repo_language(repo: str) -> str:\n",
    "    url = f\"https://api.github.com/repos/{repo}\"\n",
    "    repo_info = github_api_request(url)\n",
    "    if type(repo_info) is dict:\n",
    "        repo_info = cast(Dict, repo_info)\n",
    "        if \"language\" not in repo_info:\n",
    "            raise Exception(\n",
    "                \"'language' key not round in response\\n{}\".format(json.dumps(repo_info))\n",
    "            )\n",
    "        return repo_info[\"language\"]\n",
    "    raise Exception(\n",
    "        f\"Expecting a dictionary response from {url}, instead got {json.dumps(repo_info)}\"\n",
    "    )"
   ]
  },
  {
   "cell_type": "code",
   "execution_count": 11,
   "id": "a7523107",
   "metadata": {},
   "outputs": [],
   "source": [
    "''' create a function with an api that will extra the repo contents '''\n",
    "def get_repo_contents(repo: str) -> List[Dict[str, str]]:\n",
    "    url = f\"https://api.github.com/repos/{repo}/contents/\"\n",
    "    contents = github_api_request(url)\n",
    "    if type(contents) is list:\n",
    "        contents = cast(List, contents)\n",
    "        return contents\n",
    "    raise Exception(\n",
    "        f\"Expecting a list response from {url}, instead got {json.dumps(contents)}\"\n",
    "    )"
   ]
  },
  {
   "cell_type": "code",
   "execution_count": 12,
   "id": "4e583f09",
   "metadata": {},
   "outputs": [],
   "source": [
    "def get_readme_download_url(files: List[Dict[str, str]]) -> str:\n",
    "    \"\"\"\n",
    "    Takes in a response from the github api that lists the files in a repo and\n",
    "    returns the url that can be used to download the repo's README file.\n",
    "    \"\"\"\n",
    "    for file in files:\n",
    "        if file[\"name\"].lower().startswith(\"readme\"):\n",
    "            return file[\"download_url\"]\n",
    "    return \"\""
   ]
  },
  {
   "cell_type": "code",
   "execution_count": 13,
   "id": "65a84e98",
   "metadata": {},
   "outputs": [],
   "source": [
    "def process_repo(repo: str) -> Dict[str, str]:\n",
    "    \"\"\"\n",
    "    Takes a repo name like \"gocodeup/codeup-setup-script\" and returns a\n",
    "    dictionary with the language of the repo and the readme contents.\n",
    "    \"\"\"\n",
    "    contents = get_repo_contents(repo)\n",
    "    readme_download_url = get_readme_download_url(contents)\n",
    "    if readme_download_url == \"\":\n",
    "        readme_contents = \"\"\n",
    "    else:\n",
    "        readme_contents = requests.get(readme_download_url).text\n",
    "    return {\n",
    "        \"repo\": repo,\n",
    "        \"language\": get_repo_language(repo),\n",
    "        \"readme_contents\": readme_contents,\n",
    "    }"
   ]
  },
  {
   "cell_type": "code",
   "execution_count": 14,
   "id": "34a9d1cd",
   "metadata": {},
   "outputs": [],
   "source": [
    "def scrape_github_data() -> List[Dict[str, str]]:\n",
    "    \"\"\"\n",
    "    Loop through all of the repos and process them. Returns the processed data.\n",
    "    \"\"\"\n",
    "    return [process_repo(repo) for repo in REPOS]"
   ]
  },
  {
   "cell_type": "code",
   "execution_count": 18,
   "id": "83aa75f5",
   "metadata": {},
   "outputs": [],
   "source": [
    "'''create a local file for data.json'''\n",
    "if __name__ == \"__main__\":\n",
    "    data = scrape_github_data()\n",
    "    json.dump(data, open(\"data.json\", \"w\"), indent=1)"
   ]
  },
  {
   "cell_type": "code",
   "execution_count": null,
   "id": "17be7d10",
   "metadata": {},
   "outputs": [],
   "source": []
  },
  {
   "cell_type": "code",
   "execution_count": null,
   "id": "deab206d",
   "metadata": {},
   "outputs": [],
   "source": []
  }
 ],
 "metadata": {
  "kernelspec": {
   "display_name": "Python 3 (ipykernel)",
   "language": "python",
   "name": "python3"
  },
  "language_info": {
   "codemirror_mode": {
    "name": "ipython",
    "version": 3
   },
   "file_extension": ".py",
   "mimetype": "text/x-python",
   "name": "python",
   "nbconvert_exporter": "python",
   "pygments_lexer": "ipython3",
   "version": "3.9.12"
  }
 },
 "nbformat": 4,
 "nbformat_minor": 5
}
