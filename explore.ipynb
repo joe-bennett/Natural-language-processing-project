{
 "cells": [
  {
   "cell_type": "code",
   "execution_count": 6,
   "id": "1a1d9f0c",
   "metadata": {},
   "outputs": [],
   "source": [
    "import pandas as pd\n",
    "import matplotlib.pyplot as plt\n",
    "import seaborn as sns\n",
    "import numpy as np\n",
    "import re\n",
    "from wordcloud import WordCloud\n",
    "from sklearn.feature_extraction.text import TfidfVectorizer\n",
    "from sklearn.feature_extraction.text import CountVectorizer\n",
    "from sklearn.model_selection import train_test_split\n",
    "from sklearn.tree import DecisionTreeClassifier, export_graphviz\n",
    "from sklearn.metrics import classification_report\n",
    "import prepare"
   ]
  },
  {
   "cell_type": "code",
   "execution_count": 3,
   "id": "3824a716",
   "metadata": {},
   "outputs": [],
   "source": [
    "def make_word_list(df):\n",
    "    \"\"\" creates a list of every not unique word in dataframe\"\"\"\n",
    "    all_words = re.sub(r'[^\\w\\s]', '', (' '.join(df.lemmatized))).split()\n",
    "    all_freq = pd.Series(all_words).value_counts()\n",
    "    \n",
    "    mask = all_freq > 1\n",
    "    all_not_unique = list(all_freq[mask].index)\n",
    "    \n",
    "    return all_not_unique"
   ]
  },
  {
   "cell_type": "code",
   "execution_count": 4,
   "id": "bc66718b",
   "metadata": {},
   "outputs": [],
   "source": [
    "def finding_non_single_words(x):\n",
    "    \"\"\"finds all words in column that appear in df more than one time\n",
    "    will be used to make a column that counts words that appear more than once\"\"\"\n",
    "    all_not_unique = make_word_list(df)\n",
    "    l = []\n",
    "    for w in x:\n",
    "        if w in all_not_unique:\n",
    "            l.append(w)\n",
    "    return l"
   ]
  },
  {
   "cell_type": "code",
   "execution_count": 5,
   "id": "fd546a33",
   "metadata": {},
   "outputs": [],
   "source": [
    "def feature_engineering(df):\n",
    "    \"\"\"creates calculated columns for df subsetted by type of column\"\"\"\n",
    "    \n",
    "    #list making features \n",
    "    df['word_list'] = df.lemmatized.apply(lambda x: re.sub(r'[^\\w\\s]', '', x).split())\n",
    "    df['unique_words'] = df.word_list.apply(lambda x: pd.Series(x).unique())\n",
    "    df['non_single_words'] = df.word_list.apply(lambda x: finding_non_single_words(x))\n",
    "\n",
    "    # counting\n",
    "    df['word_count_simple'] = df.lemmatized.str.count(\" \") + 1\n",
    "    df['word_count'] = df.word_list.apply(lambda x: len(x))\n",
    "    df['unique_count'] = df.unique_words.apply(lambda x: len(x))\n",
    "    df['non_single_count'] = df.non_single_words.apply(lambda x: len(x))\n",
    "\n",
    "    # calculating\n",
    "    df['percent_unique'] = (df.unique_count / df.word_count)\n",
    "    df['percent_repeat'] = (1 - df.unique_count / df.word_count)\n",
    "    df['percent_one_word'] = df.word_list.apply(lambda x: (pd.Series(x).value_counts() == 1).mean())\n",
    "    df['percent_non_single'] = (df.non_single_count / df.word_count)\n",
    "\n",
    "    return df"
   ]
  },
  {
   "cell_type": "code",
   "execution_count": null,
   "id": "5b244123",
   "metadata": {},
   "outputs": [],
   "source": []
  }
 ],
 "metadata": {
  "kernelspec": {
   "display_name": "Python 3 (ipykernel)",
   "language": "python",
   "name": "python3"
  },
  "language_info": {
   "codemirror_mode": {
    "name": "ipython",
    "version": 3
   },
   "file_extension": ".py",
   "mimetype": "text/x-python",
   "name": "python",
   "nbconvert_exporter": "python",
   "pygments_lexer": "ipython3",
   "version": "3.9.12"
  }
 },
 "nbformat": 4,
 "nbformat_minor": 5
}
